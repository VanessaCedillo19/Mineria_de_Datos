{
 "cells": [
  {
   "cell_type": "markdown",
   "metadata": {},
   "source": [
    "# Algoritmo K-Medias\n",
    "Primero descargaremos la base de datos de iris, únicamente para esto usaremos sklearn que tiene el repositorio online sin necesidad de descargar un CSV. De ahí en fuera, no lo usaremos más."
   ]
  },
  {
   "cell_type": "code",
   "execution_count": 1,
   "metadata": {},
   "outputs": [],
   "source": [
    "from sklearn import datasets \n",
    "iris = datasets.load_iris()"
   ]
  },
  {
   "cell_type": "markdown",
   "metadata": {},
   "source": [
    "Ahora transformaremos esta base de datos en un Data Frame de Pandas poder trabajar fácilmente"
   ]
  },
  {
   "cell_type": "code",
   "execution_count": 2,
   "metadata": {},
   "outputs": [
    {
     "data": {
      "text/html": [
       "<div>\n",
       "<style scoped>\n",
       "    .dataframe tbody tr th:only-of-type {\n",
       "        vertical-align: middle;\n",
       "    }\n",
       "\n",
       "    .dataframe tbody tr th {\n",
       "        vertical-align: top;\n",
       "    }\n",
       "\n",
       "    .dataframe thead th {\n",
       "        text-align: right;\n",
       "    }\n",
       "</style>\n",
       "<table border=\"1\" class=\"dataframe\">\n",
       "  <thead>\n",
       "    <tr style=\"text-align: right;\">\n",
       "      <th></th>\n",
       "      <th>0</th>\n",
       "      <th>1</th>\n",
       "      <th>2</th>\n",
       "      <th>3</th>\n",
       "    </tr>\n",
       "  </thead>\n",
       "  <tbody>\n",
       "    <tr>\n",
       "      <th>0</th>\n",
       "      <td>5.1</td>\n",
       "      <td>3.5</td>\n",
       "      <td>1.4</td>\n",
       "      <td>0.2</td>\n",
       "    </tr>\n",
       "    <tr>\n",
       "      <th>1</th>\n",
       "      <td>4.9</td>\n",
       "      <td>3.0</td>\n",
       "      <td>1.4</td>\n",
       "      <td>0.2</td>\n",
       "    </tr>\n",
       "    <tr>\n",
       "      <th>2</th>\n",
       "      <td>4.7</td>\n",
       "      <td>3.2</td>\n",
       "      <td>1.3</td>\n",
       "      <td>0.2</td>\n",
       "    </tr>\n",
       "    <tr>\n",
       "      <th>3</th>\n",
       "      <td>4.6</td>\n",
       "      <td>3.1</td>\n",
       "      <td>1.5</td>\n",
       "      <td>0.2</td>\n",
       "    </tr>\n",
       "    <tr>\n",
       "      <th>4</th>\n",
       "      <td>5.0</td>\n",
       "      <td>3.6</td>\n",
       "      <td>1.4</td>\n",
       "      <td>0.2</td>\n",
       "    </tr>\n",
       "  </tbody>\n",
       "</table>\n",
       "</div>"
      ],
      "text/plain": [
       "     0    1    2    3\n",
       "0  5.1  3.5  1.4  0.2\n",
       "1  4.9  3.0  1.4  0.2\n",
       "2  4.7  3.2  1.3  0.2\n",
       "3  4.6  3.1  1.5  0.2\n",
       "4  5.0  3.6  1.4  0.2"
      ]
     },
     "execution_count": 2,
     "metadata": {},
     "output_type": "execute_result"
    }
   ],
   "source": [
    "import pandas as pd\n",
    "iris=pd.DataFrame(iris.data)\n",
    "iris.head()"
   ]
  },
  {
   "cell_type": "markdown",
   "metadata": {},
   "source": [
    "Estableceremos una variable K=3 para trabajar únicamente con esta cantidad de categorías para este ajuste."
   ]
  },
  {
   "cell_type": "code",
   "execution_count": 3,
   "metadata": {},
   "outputs": [],
   "source": [
    "K=3"
   ]
  },
  {
   "cell_type": "markdown",
   "metadata": {},
   "source": [
    "Definiremos algunos valores aleatorios iniciales para estos grupos μk. Veamos primero el rango de cada dimensión para encontrar los límites de cada μk"
   ]
  },
  {
   "cell_type": "code",
   "execution_count": 5,
   "metadata": {},
   "outputs": [],
   "source": [
    "import numpy as np #Calcular máximo y mínimo "
   ]
  },
  {
   "cell_type": "code",
   "execution_count": 6,
   "metadata": {},
   "outputs": [],
   "source": [
    "zero_min=np.min(iris.loc[:,0])\n",
    "zero_max=np.max(iris.loc[:,0])\n",
    "\n",
    "one_min=np.min(iris.loc[:,1])\n",
    "one_max=np.max(iris.loc[:,1])\n",
    "\n",
    "two_min=np.min(iris.loc[:,2])\n",
    "two_max=np.max(iris.loc[:,2])\n",
    "\n",
    "three_min=np.min(iris.loc[:,3])\n",
    "three_max=np.max(iris.loc[:,3])"
   ]
  },
  {
   "cell_type": "markdown",
   "metadata": {},
   "source": [
    "La base de datos tiene información fraccionaria y para generar los números aleatorios correspondientes es necesarios volverlos enteros. Esto lo hacemos para que sea más fácil trabajar con numpy"
   ]
  },
  {
   "cell_type": "code",
   "execution_count": 7,
   "metadata": {},
   "outputs": [
    {
     "name": "stdout",
     "output_type": "stream",
     "text": [
      "43 79\n"
     ]
    }
   ],
   "source": [
    "print(int(zero_min*10),int(zero_max*10))"
   ]
  },
  {
   "cell_type": "code",
   "execution_count": 8,
   "metadata": {},
   "outputs": [],
   "source": [
    "zero_min=int(zero_min*10)\n",
    "zero_max=int(zero_max*10)\n",
    "\n",
    "one_min=int(one_min*10)\n",
    "one_max=int(one_max*10)\n",
    "\n",
    "two_min=int(two_min*10)\n",
    "two_max=int(two_max*10)\n",
    "\n",
    "three_min=int(three_min*10)\n",
    "three_max=int(three_max*10)"
   ]
  },
  {
   "cell_type": "markdown",
   "metadata": {},
   "source": [
    "Ahora tenemos todos los límites para cada dimensión en el conjunto de datos. Luego, podemos establecer los valores iniciales para μk, vamos a insertar todos estos valores en un nuevo vector llamado mu"
   ]
  },
  {
   "cell_type": "code",
   "execution_count": 9,
   "metadata": {},
   "outputs": [],
   "source": [
    "np.random.seed(1500) #Definir una semilla aleatoria para tener los mismos resultados que yo"
   ]
  },
  {
   "cell_type": "code",
   "execution_count": 10,
   "metadata": {},
   "outputs": [],
   "source": [
    "\n",
    "mu=[]\n",
    "for i in range(0,K):\n",
    "    zeros=np.random.randint(zero_min,zero_max)\n",
    "    ones=np.random.randint(one_min,one_max)\n",
    "    twos=np.random.randint(two_min,two_max)\n",
    "    threes=np.random.randint(three_min,three_max)\n",
    "    \n",
    "    mu.append([zeros,ones,twos,threes])"
   ]
  },
  {
   "cell_type": "markdown",
   "metadata": {},
   "source": [
    "Luego, vamos a transformar centros en una matriz numpy y dividir por 10 para tener μk para tener los valores correctos para el conjunto de datos."
   ]
  },
  {
   "cell_type": "code",
   "execution_count": 11,
   "metadata": {},
   "outputs": [
    {
     "data": {
      "text/plain": [
       "array([[6.2, 3.1, 1.1, 1.5],\n",
       "       [4.5, 2.9, 2.5, 2. ],\n",
       "       [5.9, 3. , 2.7, 0.8]])"
      ]
     },
     "execution_count": 11,
     "metadata": {},
     "output_type": "execute_result"
    }
   ],
   "source": [
    "mu=np.array(mu)/10\n",
    "mu"
   ]
  },
  {
   "cell_type": "markdown",
   "metadata": {},
   "source": [
    "Será necesario crear una matriz para agregar $ k $ columnas. Los llamaremos $ r_ {n, k} $. Donde $ n $ es una única observación de conjunto de datos y $ k $ corresponde a cada grupo definido. Considere $r_{n,k}\\in\\{0,1\\}$\n",
    "\n",
    "Esto debería verse como:"
   ]
  },
  {
   "cell_type": "code",
   "execution_count": 12,
   "metadata": {},
   "outputs": [
    {
     "data": {
      "text/html": [
       "<div>\n",
       "<style scoped>\n",
       "    .dataframe tbody tr th:only-of-type {\n",
       "        vertical-align: middle;\n",
       "    }\n",
       "\n",
       "    .dataframe tbody tr th {\n",
       "        vertical-align: top;\n",
       "    }\n",
       "\n",
       "    .dataframe thead th {\n",
       "        text-align: right;\n",
       "    }\n",
       "</style>\n",
       "<table border=\"1\" class=\"dataframe\">\n",
       "  <thead>\n",
       "    <tr style=\"text-align: right;\">\n",
       "      <th></th>\n",
       "      <th>0</th>\n",
       "      <th>1</th>\n",
       "      <th>2</th>\n",
       "    </tr>\n",
       "  </thead>\n",
       "  <tbody>\n",
       "    <tr>\n",
       "      <th>0</th>\n",
       "      <td>0.0</td>\n",
       "      <td>0.0</td>\n",
       "      <td>0.0</td>\n",
       "    </tr>\n",
       "    <tr>\n",
       "      <th>1</th>\n",
       "      <td>0.0</td>\n",
       "      <td>0.0</td>\n",
       "      <td>0.0</td>\n",
       "    </tr>\n",
       "    <tr>\n",
       "      <th>2</th>\n",
       "      <td>0.0</td>\n",
       "      <td>0.0</td>\n",
       "      <td>0.0</td>\n",
       "    </tr>\n",
       "    <tr>\n",
       "      <th>3</th>\n",
       "      <td>0.0</td>\n",
       "      <td>0.0</td>\n",
       "      <td>0.0</td>\n",
       "    </tr>\n",
       "    <tr>\n",
       "      <th>4</th>\n",
       "      <td>0.0</td>\n",
       "      <td>0.0</td>\n",
       "      <td>0.0</td>\n",
       "    </tr>\n",
       "  </tbody>\n",
       "</table>\n",
       "</div>"
      ],
      "text/plain": [
       "     0    1    2\n",
       "0  0.0  0.0  0.0\n",
       "1  0.0  0.0  0.0\n",
       "2  0.0  0.0  0.0\n",
       "3  0.0  0.0  0.0\n",
       "4  0.0  0.0  0.0"
      ]
     },
     "execution_count": 12,
     "metadata": {},
     "output_type": "execute_result"
    }
   ],
   "source": [
    "r=np.zeros(iris.shape[0]*K).reshape(iris.shape[0],K)\n",
    "pd.DataFrame(r).head()"
   ]
  },
  {
   "cell_type": "markdown",
   "metadata": {},
   "source": [
    "¿Cómo funciona el algoritmo?\n",
    "Ahora, el paso complejo, o tal vez no. Vamos a definir una función $ J $, esta se llamará como medida de distorsión y viene dada por:\n",
    "\n",
    "$$\n",
    "J=\\sum_{n=1}^{N}\\sum_{k=1}^{K}r_{n,k}||x_{n}-\\mu_{k}\n",
    "||^2\n",
    "$$\n",
    "Donde $ N $ es el número total de observaciones en el conjunto de datos, $ K $ es el total de conglomerados definidos, $ x_n $ es cada observación y sabemos qué significa $ \\mu_k $ y $ r_ {n, k} $. Como podemos ver, todo el conjunto de datos se usará para encontrar el vector centroide dado por $ \\mu_k $. Existe otra forma de estimar los mejores centroides mediante el procedimiento de Robbins-Monro, aplicando un algoritmo estocástico en línea, pero será en otro momento.\n",
    "\n",
    "I. Nuestro primer objetivo es minimizar $ J $ con respecto a $ r_ {n, k} $, manteniendo $ \\mu_k $ fijo. Y considerando la siguiente regla:\n",
    "\n",
    "$$ r_ {n, k} = \\ begin {cases} 1, & \\ text {if $ k = argmin_j || x_ {n} - \\mu_ {j} || ^ 2 $}. \\\\ 0, & \\ texto {de lo contrario}. \\ end {cases} $$\n",
    "II. Luego, vamos a minimizar nuevamente $ J $, pero con respecto a $ \\mu_k $, manteniendo $ r_ {n, k} $ fijo. Considere la siguiente fórmula:\n",
    "\n",
    "$$\n",
    "\\mu_k=\\frac{\\sum_n r_{n,k} x_n}{\\sum_n r_{n,k}}\n",
    "$$\n",
    "Realizaremos los pasos anteriores hasta la convergencia."
   ]
  },
  {
   "cell_type": "code",
   "execution_count": 14,
   "metadata": {},
   "outputs": [
    {
     "name": "stdout",
     "output_type": "stream",
     "text": [
      "1100.879999999999\n",
      "1077.8460571113644\n",
      "870.987494853379\n",
      "869.126836320042\n",
      "923.8112637226989\n",
      "925.4275481881676\n",
      "925.7231759999969\n"
     ]
    }
   ],
   "source": [
    "plot_counter=0\n",
    "J_plot=[]\n",
    "for i in range(1,10): #Para este caso solo queremos como máximo 10 iteraciones\n",
    "    J=0 #Inicializando la medida de distorsión\n",
    "    \n",
    "    # Este ciclo será para crear todos los valores para r_ {n, k} usando la base de datos\n",
    "    for n in range(0,iris.shape[0]): \n",
    "        x=np.array(iris.iloc[n,0:4])\n",
    "        mins=[]\n",
    "\n",
    "        for k in range(0,K):\n",
    "            distance=np.linalg.norm(x-mu[k])# Usando la distancia euclidiana con numpy\n",
    "            mins.append(distance**2) #Simplemente agregue todas las distancias en los nuevos minutos del vector, este vector solo los mantiene\n",
    "\n",
    "        k_r=np.argmin(np.array(mins))#Aplicamos la REGLA I\n",
    "        r[n,k_r]=1 #Para el caso contrario, al final inicializamos nuevamente el ciclo para que tenga un vector de ceros.\n",
    "    \n",
    "    #Las siguientes líneas calcularán la medida de distorsión y mantendrán el valor de J para la gráfica.\n",
    "    for n in range(0,iris.shape[0]):\n",
    "        for k in range(0,K):\n",
    "            distance=np.linalg.norm(x-mu[k])\n",
    "            J=r[n,k]*(distance**2)+J\n",
    "    J_plot.append(J)\n",
    "    \n",
    "#Ahora, vamos a actualizar los centroides con todos los mu usando II. Por eso es un algoritmo K-Means\n",
    "    for k in range(0,K):\n",
    "        count_1,count_2=0,0\n",
    "        for n in range(0,iris.shape[0]):\n",
    "            x=np.array(iris.iloc[n,0:4])\n",
    "            count_1=r[n,k]*x+count_1\n",
    "            count_2=r[n,k]+count_2\n",
    "        mu[k]=count_1/count_2\n",
    "        \n",
    "    print(J)\n",
    "    #Esta simple regla es solo para romper el ciclo si la J anterior y la J real no cambian considerablemente\n",
    "    if i>1 and abs(J-J_prev)<0.5:\n",
    "        break\n",
    "    J_prev=J\n",
    "    plot_counter=1+plot_counter\n",
    "    #Como dije antes, esto reinicializa el vector r con ceros\n",
    "    r=np.zeros(iris.shape[0]*K).reshape(iris.shape[0],K)"
   ]
  },
  {
   "cell_type": "markdown",
   "metadata": {},
   "source": [
    "Ahora vamos a llamar a matplotlib para ver cómo se actualiza la J y la medida de distorsión disminuye."
   ]
  },
  {
   "cell_type": "code",
   "execution_count": 15,
   "metadata": {},
   "outputs": [],
   "source": [
    "import matplotlib.pyplot as plt"
   ]
  },
  {
   "cell_type": "code",
   "execution_count": 30,
   "metadata": {},
   "outputs": [
    {
     "data": {
      "image/png": "[encoded data removed]",
      "text/plain": [
       "<Figure size 432x288 with 1 Axes>"
      ]
     },
     "metadata": {
      "needs_background": "light"
     },
     "output_type": "display_data"
    }
   ],
   "source": [
    "plt.plot(J_plot,linestyle='-', marker='o',color='brown')\n",
    "plt.ylabel('J: Medida de distorsión')\n",
    "plt.xlabel('Iteraciones')\n",
    "plt.show()"
   ]
  },
  {
   "cell_type": "markdown",
   "metadata": {},
   "source": [
    "Como vimos, la convergencia de J está asegurada, pero es más común converger a un mínimo local que a uno global para J. Esto fue estudiado por MacQueen (1967). El vector final para todos los centroides o mu será:"
   ]
  },
  {
   "cell_type": "code",
   "execution_count": 18,
   "metadata": {},
   "outputs": [
    {
     "data": {
      "text/plain": [
       "array([[5.006     , 3.428     , 1.462     , 0.246     ],\n",
       "       [5.82962963, 2.73148148, 4.31481481, 1.39259259],\n",
       "       [6.76956522, 3.03695652, 5.6       , 2.00869565]])"
      ]
     },
     "execution_count": 18,
     "metadata": {},
     "output_type": "execute_result"
    }
   ],
   "source": [
    "mu"
   ]
  },
  {
   "cell_type": "markdown",
   "metadata": {},
   "source": [
    "### Inicialización"
   ]
  },
  {
   "cell_type": "markdown",
   "metadata": {},
   "source": [
    "Así se ve el conjunto de datos si solo graficamos las características 0 y 1"
   ]
  },
  {
   "cell_type": "code",
   "execution_count": 19,
   "metadata": {},
   "outputs": [
    {
     "data": {
      "image/png": "[encoded data removed]",
      "text/plain": [
       "<Figure size 432x288 with 1 Axes>"
      ]
     },
     "metadata": {
      "needs_background": "light"
     },
     "output_type": "display_data"
    }
   ],
   "source": [
    "plt.scatter(iris[0],iris[1],marker='.')\n",
    "plt.show()"
   ]
  },
  {
   "cell_type": "markdown",
   "metadata": {},
   "source": [
    "### Asignación de Objetos"
   ]
  },
  {
   "cell_type": "markdown",
   "metadata": {},
   "source": [
    "Si sumamos los centroides $\\mu$ al diagrama de dispersión veremos dónde están las zonas principales de cada categoría K"
   ]
  },
  {
   "cell_type": "code",
   "execution_count": 23,
   "metadata": {},
   "outputs": [
    {
     "data": {
      "image/png": "[encoded data removed]",
      "text/plain": [
       "<Figure size 432x288 with 1 Axes>"
      ]
     },
     "metadata": {
      "needs_background": "light"
     },
     "output_type": "display_data"
    }
   ],
   "source": [
    "mu=pd.DataFrame(mu)\n",
    "plt.scatter(iris[0],iris[1],marker='.')\n",
    "plt.scatter(mu[0],mu[1],s=100,marker='x',color='red')\n",
    "plt.show()"
   ]
  },
  {
   "cell_type": "markdown",
   "metadata": {},
   "source": [
    "### Actualización Centroides"
   ]
  },
  {
   "cell_type": "markdown",
   "metadata": {},
   "source": [
    "Ahora queremos saber qué punto pertenece a cada una de las categorías $ K = 3 $. Necesitamos calcular la distancia de cada punto a cada centroide $ \\mu $ e identificar el más cercano. Esta información ya existe en el vector $ r_ {n, k} $ después del ajuste. Si hay una nueva observación, simplemente calcule las distancias del nuevo $ x_i $ con $ \\mu_k $ para $ k = 1,2,3 $ en este caso."
   ]
  },
  {
   "cell_type": "code",
   "execution_count": 24,
   "metadata": {},
   "outputs": [],
   "source": [
    "r_new=[]\n",
    "for row in r:\n",
    "    r_new.append(np.argmax(row)+1)\n",
    "iris[4]=r_new"
   ]
  },
  {
   "cell_type": "markdown",
   "metadata": {},
   "source": [
    "Después de crear un nuevo vector solo para establecer las etiquetas correctas, simplemente trazamos cada categoría. La marca $\"x\"$ muestra el centroide y el área coloreada al lado es la categoría."
   ]
  },
  {
   "cell_type": "code",
   "execution_count": 25,
   "metadata": {},
   "outputs": [
    {
     "data": {
      "image/png": "[encoded data removed]",
      "text/plain": [
       "<Figure size 432x288 with 1 Axes>"
      ]
     },
     "metadata": {
      "needs_background": "light"
     },
     "output_type": "display_data"
    }
   ],
   "source": [
    "plt.scatter(iris[0],iris[1],c=iris[4],marker='.')\n",
    "plt.scatter(mu[0],mu[1],s=100,marker='x',color='red')\n",
    "plt.show()"
   ]
  },
  {
   "cell_type": "markdown",
   "metadata": {},
   "source": [
    "Parece que el algoritmo no clasifica los puntos más cercanos como parte de una categoría $ \\mu_k $. Recuerde que solo estamos trazando en 2D, el conjunto de datos completo pertenece a 4D y estamos usando la distancia euclidiana. Desafortunadamente, podemos ver mucho en 3D."
   ]
  },
  {
   "cell_type": "code",
   "execution_count": 28,
   "metadata": {},
   "outputs": [
    {
     "data": {
      "image/png": "[encoded data removed]",
      "text/plain": [
       "<Figure size 432x288 with 1 Axes>"
      ]
     },
     "metadata": {
      "needs_background": "light"
     },
     "output_type": "display_data"
    }
   ],
   "source": [
    "from mpl_toolkits.mplot3d import Axes3D\n",
    "\n",
    "fig = plt.figure()\n",
    "ax = fig.add_subplot(111, projection='3d')\n",
    "\n",
    "x1 =iris[0]\n",
    "y1 =iris[1]\n",
    "z1 =iris[2]\n",
    "\n",
    "x2=mu[0]\n",
    "y2=mu[1]\n",
    "z2=mu[2]\n",
    "\n",
    "ax.scatter(x1, y1, z1, c=iris[4], marker='.')\n",
    "ax.scatter(x2, y2, z2, c='red', s=200, marker='x')\n",
    "\n",
    "ax.set_xlabel('característica 0')\n",
    "ax.set_ylabel('característica 1')\n",
    "ax.set_zlabel('característica 2')\n",
    "\n",
    "plt.show()"
   ]
  },
  {
   "cell_type": "code",
   "execution_count": null,
   "metadata": {},
   "outputs": [],
   "source": []
  }
 ],
 "metadata": {
  "kernelspec": {
   "display_name": "Python 3",
   "language": "python",
   "name": "python3"
  },
  "language_info": {
   "codemirror_mode": {
    "name": "ipython",
    "version": 3
   },
   "file_extension": ".py",
   "mimetype": "text/x-python",
   "name": "python",
   "nbconvert_exporter": "python",
   "pygments_lexer": "ipython3",
   "version": "3.8.5"
  }
 },
 "nbformat": 4,
 "nbformat_minor": 4
}
